{
  "nbformat": 4,
  "nbformat_minor": 0,
  "metadata": {
    "colab": {
      "name": "barcodeexample1.ipynb",
      "provenance": [],
      "authorship_tag": "ABX9TyNcM/SLzpp0JSkD0zVYtImG",
      "include_colab_link": true
    },
    "kernelspec": {
      "name": "python3",
      "display_name": "Python 3"
    }
  },
  "cells": [
    {
      "cell_type": "markdown",
      "metadata": {
        "id": "view-in-github",
        "colab_type": "text"
      },
      "source": [
        "<a href=\"https://colab.research.google.com/github/Nilesha14/DL_Utilities/blob/master/barcodeexample1.ipynb\" target=\"_parent\"><img src=\"https://colab.research.google.com/assets/colab-badge.svg\" alt=\"Open In Colab\"/></a>"
      ]
    },
    {
      "cell_type": "code",
      "metadata": {
        "id": "6dx2eqI2kBmp",
        "colab_type": "code",
        "colab": {
          "base_uri": "https://localhost:8080/",
          "height": 204
        },
        "outputId": "d048bef3-f23a-435d-fc4e-ecd3479f17c9"
      },
      "source": [
        "!pip install opencv-python\n",
        "!apt install libzbar0\n",
        "!pip install pyzbar"
      ],
      "execution_count": 1,
      "outputs": [
        {
          "output_type": "stream",
          "text": [
            "Requirement already satisfied: opencv-python in /usr/local/lib/python3.6/dist-packages (4.1.2.30)\n",
            "Requirement already satisfied: numpy>=1.11.3 in /usr/local/lib/python3.6/dist-packages (from opencv-python) (1.18.5)\n",
            "Reading package lists... Done\n",
            "Building dependency tree       \n",
            "Reading state information... Done\n",
            "libzbar0 is already the newest version (0.10+doc-10.1build2).\n",
            "The following package was automatically installed and is no longer required:\n",
            "  libnvidia-common-440\n",
            "Use 'apt autoremove' to remove it.\n",
            "0 upgraded, 0 newly installed, 0 to remove and 35 not upgraded.\n",
            "Requirement already satisfied: pyzbar in /usr/local/lib/python3.6/dist-packages (0.1.8)\n"
          ],
          "name": "stdout"
        }
      ]
    },
    {
      "cell_type": "code",
      "metadata": {
        "id": "0JS9MzU5gAsF",
        "colab_type": "code",
        "colab": {}
      },
      "source": [
        "import cv2\n",
        "from pyzbar.pyzbar import decode"
      ],
      "execution_count": 2,
      "outputs": []
    },
    {
      "cell_type": "code",
      "metadata": {
        "id": "mh4q48FVjemz",
        "colab_type": "code",
        "colab": {
          "base_uri": "https://localhost:8080/",
          "height": 54
        },
        "outputId": "a5ac6b26-e1ed-46af-d190-e2852dcacbe0"
      },
      "source": [
        "## for barcode image\n",
        "img = cv2.imread('barcode1.png')\n",
        "code=decode(img)\n",
        "print(code)"
      ],
      "execution_count": 3,
      "outputs": [
        {
          "output_type": "stream",
          "text": [
            "[Decoded(data=b'0705632085943', type='EAN13', rect=Rect(left=18, top=0, width=154, height=100), polygon=[Point(x=18, y=1), Point(x=18, y=99), Point(x=97, y=100), Point(x=172, y=100), Point(x=172, y=0)])]\n"
          ],
          "name": "stdout"
        }
      ]
    },
    {
      "cell_type": "code",
      "metadata": {
        "id": "0HsVcMbDmOwr",
        "colab_type": "code",
        "colab": {
          "base_uri": "https://localhost:8080/",
          "height": 34
        },
        "outputId": "eed2f9f4-af03-47f5-8b87-31364a692c53"
      },
      "source": [
        "## for barcode image with more than one barcodes on image and decoding\n",
        "img = cv2.imread('barcode1.png')\n",
        "for barcode in decode(img):\n",
        "    myData = barcode.data.decode('utf-8')\n",
        "    print(myData)"
      ],
      "execution_count": 4,
      "outputs": [
        {
          "output_type": "stream",
          "text": [
            "0705632085943\n"
          ],
          "name": "stdout"
        }
      ]
    }
  ]
}